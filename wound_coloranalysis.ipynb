{
 "cells": [
  {
   "cell_type": "code",
   "execution_count": 26,
   "id": "72d1dc78",
   "metadata": {
    "scrolled": false
   },
   "outputs": [
    {
     "name": "stdout",
     "output_type": "stream",
     "text": [
      "            red     green      blue\n",
      "0      0.741176  0.435294  0.482353\n",
      "1      0.729412  0.419608  0.458824\n",
      "2      0.721569  0.403922  0.454902\n",
      "3      0.709804  0.384314  0.431373\n",
      "4      0.694118  0.360784  0.415686\n",
      "...         ...       ...       ...\n",
      "81512  0.901961  0.458824  0.498039\n",
      "81513  0.882353  0.439216  0.470588\n",
      "81514  0.901961  0.439216  0.466667\n",
      "81515  0.874510  0.400000  0.427451\n",
      "81516  0.850980  0.372549  0.396078\n",
      "\n",
      "[81517 rows x 3 columns]\n"
     ]
    },
    {
     "data": {
      "image/png": "[encoded data removed]",
      "text/plain": [
       "<Figure size 640x480 with 1 Axes>"
      ]
     },
     "metadata": {},
     "output_type": "display_data"
    }
   ],
   "source": [
    "import cv2\n",
    "import numpy as np\n",
    "import pandas as pd\n",
    "import os\n",
    "import matplotlib.pyplot as plt\n",
    "from scipy.cluster.vq import kmeans\n",
    "import matplotlib.image as img  # Use matplotlib for image loading\n",
    "\n",
    "# Path to the folder containing image pairs\n",
    "folder_path = \"/Users/Swetha/Downloads/data_wound_seg/healthy\"  # Replace with the actual folder path\n",
    "\n",
    "# Initialize a list to collect all RGB values\n",
    "all_rgb_values = []\n",
    "\n",
    "# Iterate through the image pairs\n",
    "for i in range(1, 26):  # Assuming there are 25 image pairs\n",
    "    rgb_path = os.path.join(folder_path, f\"rgb{i}.png\")\n",
    "    mask_path = os.path.join(folder_path, f\"mask{i}.png\")\n",
    "    \n",
    "    # Load the RGB image and mask using matplotlib and OpenCV\n",
    "    rgb_image = img.imread(rgb_path)  # Use matplotlib to read RGB image (values in range [0, 1])\n",
    "    mask = cv2.imread(mask_path, cv2.IMREAD_GRAYSCALE)  # Load mask as grayscale using OpenCV\n",
    "    \n",
    "    # Check if the images were loaded successfully\n",
    "    if rgb_image is None or mask is None:\n",
    "        print(f\"Error loading images for pair {i}:\")\n",
    "        print(f\"RGB Path: {rgb_path}\")\n",
    "        print(f\"Mask Path: {mask_path}\")\n",
    "        continue  # Skip this pair and move to the next iteration\n",
    "\n",
    "    # Resize RGB image to match the mask's dimensions if needed\n",
    "    rgb_image = cv2.resize(rgb_image, (mask.shape[1], mask.shape[0]))\n",
    "    \n",
    "    # Ensure the mask is binary (0 or 255 values)\n",
    "    _, mask = cv2.threshold(mask, 127, 255, cv2.THRESH_BINARY)\n",
    "    \n",
    "    # Extract masked region RGB values\n",
    "    masked_pixels = rgb_image[mask == 255]  # Pixels where the mask is white\n",
    "    \n",
    "    if masked_pixels.size == 0:  # Skip if no valid masked pixels\n",
    "        print(f\"No masked pixels found for pair {i}.\")\n",
    "        continue\n",
    "\n",
    "    # Extract R, G, B values from the masked region\n",
    "    r, g, b = masked_pixels[:, 0], masked_pixels[:, 1], masked_pixels[:, 2]\n",
    "    # Append fractional RGB values to the list\n",
    "    all_rgb_values.extend(zip(r, g, b))\n",
    "\n",
    "# Convert collected RGB values into a DataFrame\n",
    "rgb_df = pd.DataFrame(all_rgb_values, columns=['red', 'green', 'blue'])\n",
    "\n",
    "# No need to rescale as matplotlib already loads values in range [0, 1]\n",
    "print(rgb_df)\n",
    "\n",
    "# Cluster the RGB values into 3 dominant colors\n",
    "cluster_centers, _ = kmeans(rgb_df[['red', 'green', 'blue']], 3)\n",
    "\n",
    "dominant_colors = []\n",
    "\n",
    "# Cluster centers will already be in range [0, 1]\n",
    "for cluster_center in cluster_centers:\n",
    "    red, green, blue = cluster_center\n",
    "    dominant_colors.append((red, green, blue))  # Append fractional values directly\n",
    "\n",
    "# Display colors of cluster centers\n",
    "plt.imshow([dominant_colors])\n",
    "plt.axis('off')  # Hide axes for better visualization\n",
    "plt.title(\"Dominant Colors\")\n",
    "plt.show()\n"
   ]
  },
  {
   "cell_type": "code",
   "execution_count": 27,
   "id": "3018f01b",
   "metadata": {},
   "outputs": [
    {
     "name": "stdout",
     "output_type": "stream",
     "text": [
      "Dominant colors saved to /Users/Swetha/Downloads/data_wound_seg/healthy.csv\n"
     ]
    }
   ],
   "source": [
    "# Save the dominant colors to a CSV file\n",
    "healthy_df = pd.DataFrame(dominant_colors, columns=['red', 'green', 'blue'])\n",
    "\n",
    "# Specify the path where you want to save the dominant colors\n",
    "output_path = \"/Users/Swetha/Downloads/data_wound_seg/healthy.csv\"  # Update with your desired file path\n",
    "\n",
    "# Save to CSV\n",
    "healthy_df.to_csv(output_path, index=False)\n",
    "\n",
    "print(f\"Dominant colors saved to {output_path}\")\n"
   ]
  },
  {
   "cell_type": "code",
   "execution_count": 28,
   "id": "54474f83",
   "metadata": {
    "scrolled": false
   },
   "outputs": [
    {
     "name": "stdout",
     "output_type": "stream",
     "text": [
      "            red     green      blue\n",
      "0      0.870588  0.533333  0.474510\n",
      "1      0.823529  0.470588  0.427451\n",
      "2      0.862745  0.517647  0.466667\n",
      "3      0.835294  0.470588  0.439216\n",
      "4      0.835294  0.482353  0.439216\n",
      "...         ...       ...       ...\n",
      "94092  0.592157  0.301961  0.298039\n",
      "94093  0.631373  0.341176  0.337255\n",
      "94094  0.654902  0.368627  0.356863\n",
      "94095  0.643137  0.360784  0.341176\n",
      "94096  0.643137  0.356863  0.341176\n",
      "\n",
      "[94097 rows x 3 columns]\n"
     ]
    },
    {
     "data": {
      "image/png": "[encoded data removed]",
      "text/plain": [
       "<Figure size 640x480 with 1 Axes>"
      ]
     },
     "metadata": {},
     "output_type": "display_data"
    }
   ],
   "source": [
    "import cv2\n",
    "import numpy as np\n",
    "import pandas as pd\n",
    "import os\n",
    "import matplotlib.pyplot as plt\n",
    "from scipy.cluster.vq import kmeans\n",
    "import matplotlib.image as img  # Use matplotlib for image loading\n",
    "\n",
    "# Path to the folder containing image pairs\n",
    "folder_path = \"/Users/Swetha/Downloads/data_wound_seg/infected\"  # Replace with the actual folder path\n",
    "\n",
    "# Initialize a list to collect all RGB values\n",
    "all_rgb_values = []\n",
    "\n",
    "# Iterate through the image pairs\n",
    "for i in range(1, 26):  # Assuming there are 25 image pairs\n",
    "    rgb_path = os.path.join(folder_path, f\"rgb{i}.png\")\n",
    "    mask_path = os.path.join(folder_path, f\"mask{i}.png\")\n",
    "    \n",
    "    # Load the RGB image and mask using matplotlib and OpenCV\n",
    "    rgb_image = img.imread(rgb_path)  # Use matplotlib to read RGB image (values in range [0, 1])\n",
    "    mask = cv2.imread(mask_path, cv2.IMREAD_GRAYSCALE)  # Load mask as grayscale using OpenCV\n",
    "    \n",
    "    # Check if the images were loaded successfully\n",
    "    if rgb_image is None or mask is None:\n",
    "        print(f\"Error loading images for pair {i}:\")\n",
    "        print(f\"RGB Path: {rgb_path}\")\n",
    "        print(f\"Mask Path: {mask_path}\")\n",
    "        continue  # Skip this pair and move to the next iteration\n",
    "\n",
    "    # Resize RGB image to match the mask's dimensions if needed\n",
    "    rgb_image = cv2.resize(rgb_image, (mask.shape[1], mask.shape[0]))\n",
    "    \n",
    "    # Ensure the mask is binary (0 or 255 values)\n",
    "    _, mask = cv2.threshold(mask, 127, 255, cv2.THRESH_BINARY)\n",
    "    \n",
    "    # Extract masked region RGB values\n",
    "    masked_pixels = rgb_image[mask == 255]  # Pixels where the mask is white\n",
    "    \n",
    "    if masked_pixels.size == 0:  # Skip if no valid masked pixels\n",
    "        print(f\"No masked pixels found for pair {i}.\")\n",
    "        continue\n",
    "\n",
    "    # Extract R, G, B values from the masked region\n",
    "    r, g, b = masked_pixels[:, 0], masked_pixels[:, 1], masked_pixels[:, 2]\n",
    "    # Append fractional RGB values to the list\n",
    "    all_rgb_values.extend(zip(r, g, b))\n",
    "\n",
    "# Convert collected RGB values into a DataFrame\n",
    "rgb_df = pd.DataFrame(all_rgb_values, columns=['red', 'green', 'blue'])\n",
    "\n",
    "# No need to rescale as matplotlib already loads values in range [0, 1]\n",
    "print(rgb_df)\n",
    "\n",
    "# Cluster the RGB values into 3 dominant colors\n",
    "cluster_centers, _ = kmeans(rgb_df[['red', 'green', 'blue']], 3)\n",
    "\n",
    "dominant_colors = []\n",
    "\n",
    "# Cluster centers will already be in range [0, 1]\n",
    "for cluster_center in cluster_centers:\n",
    "    red, green, blue = cluster_center\n",
    "    dominant_colors.append((red, green, blue))  # Append fractional values directly\n",
    "\n",
    "# Display colors of cluster centers\n",
    "plt.imshow([dominant_colors])\n",
    "plt.axis('off')  # Hide axes for better visualization\n",
    "plt.title(\"Dominant Colors\")\n",
    "plt.show()\n"
   ]
  },
  {
   "cell_type": "code",
   "execution_count": 29,
   "id": "253c7987",
   "metadata": {},
   "outputs": [
    {
     "name": "stdout",
     "output_type": "stream",
     "text": [
      "Dominant colors saved to /Users/Swetha/Downloads/data_wound_seg/infected.csv\n"
     ]
    }
   ],
   "source": [
    "# Save the dominant colors to a CSV file\n",
    "infected_df = pd.DataFrame(dominant_colors, columns=['red', 'green', 'blue'])\n",
    "\n",
    "# Specify the path where you want to save the dominant colors\n",
    "output_path = \"/Users/Swetha/Downloads/data_wound_seg/infected.csv\"  # Update with your desired file path\n",
    "\n",
    "# Save to CSV\n",
    "infected_df.to_csv(output_path, index=False)\n",
    "\n",
    "print(f\"Dominant colors saved to {output_path}\")\n"
   ]
  },
  {
   "cell_type": "code",
   "execution_count": 31,
   "id": "b1d80ee1",
   "metadata": {
    "scrolled": true
   },
   "outputs": [
    {
     "name": "stdout",
     "output_type": "stream",
     "text": [
      "             red     green      blue\n",
      "0       0.431373  0.392157  0.345098\n",
      "1       0.392157  0.360784  0.309804\n",
      "2       0.360784  0.333333  0.282353\n",
      "3       0.364706  0.337255  0.282353\n",
      "4       0.372549  0.345098  0.294118\n",
      "...          ...       ...       ...\n",
      "168885  0.525490  0.352941  0.207843\n",
      "168886  0.560784  0.388235  0.227451\n",
      "168887  0.619608  0.439216  0.266667\n",
      "168888  0.701961  0.545098  0.380392\n",
      "168889  0.725490  0.549020  0.356863\n",
      "\n",
      "[168890 rows x 3 columns]\n"
     ]
    },
    {
     "data": {
      "image/png": "[encoded data removed]",
      "text/plain": [
       "<Figure size 640x480 with 1 Axes>"
      ]
     },
     "metadata": {},
     "output_type": "display_data"
    }
   ],
   "source": [
    "import cv2\n",
    "import numpy as np\n",
    "import pandas as pd\n",
    "import os\n",
    "import matplotlib.pyplot as plt\n",
    "from scipy.cluster.vq import kmeans\n",
    "import matplotlib.image as img  # Use matplotlib for image loading\n",
    "\n",
    "# Path to the folder containing image pairs\n",
    "folder_path = \"/Users/Swetha/Downloads/data_wound_seg/ischemic\"  # Replace with the actual folder path\n",
    "\n",
    "# Initialize a list to collect all RGB values\n",
    "all_rgb_values = []\n",
    "\n",
    "# Iterate through the image pairs\n",
    "for i in range(1, 26):  # Assuming there are 25 image pairs\n",
    "    rgb_path = os.path.join(folder_path, f\"rgb{i}.png\")\n",
    "    mask_path = os.path.join(folder_path, f\"mask{i}.png\")\n",
    "    \n",
    "    # Load the RGB image and mask using matplotlib and OpenCV\n",
    "    rgb_image = img.imread(rgb_path)  # Use matplotlib to read RGB image (values in range [0, 1])\n",
    "    mask = cv2.imread(mask_path, cv2.IMREAD_GRAYSCALE)  # Load mask as grayscale using OpenCV\n",
    "    \n",
    "    # Check if the images were loaded successfully\n",
    "    if rgb_image is None or mask is None:\n",
    "        print(f\"Error loading images for pair {i}:\")\n",
    "        print(f\"RGB Path: {rgb_path}\")\n",
    "        print(f\"Mask Path: {mask_path}\")\n",
    "        continue  # Skip this pair and move to the next iteration\n",
    "\n",
    "    # Resize RGB image to match the mask's dimensions if needed\n",
    "    rgb_image = cv2.resize(rgb_image, (mask.shape[1], mask.shape[0]))\n",
    "    \n",
    "    # Ensure the mask is binary (0 or 255 values)\n",
    "    _, mask = cv2.threshold(mask, 127, 255, cv2.THRESH_BINARY)\n",
    "    \n",
    "    # Extract masked region RGB values\n",
    "    masked_pixels = rgb_image[mask == 255]  # Pixels where the mask is white\n",
    "    \n",
    "    if masked_pixels.size == 0:  # Skip if no valid masked pixels\n",
    "        print(f\"No masked pixels found for pair {i}.\")\n",
    "        continue\n",
    "\n",
    "    # Extract R, G, B values from the masked region\n",
    "    r, g, b = masked_pixels[:, 0], masked_pixels[:, 1], masked_pixels[:, 2]\n",
    "    # Append fractional RGB values to the list\n",
    "    all_rgb_values.extend(zip(r, g, b))\n",
    "\n",
    "# Convert collected RGB values into a DataFrame\n",
    "rgb_df = pd.DataFrame(all_rgb_values, columns=['red', 'green', 'blue'])\n",
    "\n",
    "# No need to rescale as matplotlib already loads values in range [0, 1]\n",
    "print(rgb_df)\n",
    "\n",
    "# Cluster the RGB values into 3 dominant colors\n",
    "cluster_centers, _ = kmeans(rgb_df[['red', 'green', 'blue']], 3)\n",
    "\n",
    "dominant_colors = []\n",
    "\n",
    "# Cluster centers will already be in range [0, 1]\n",
    "for cluster_center in cluster_centers:\n",
    "    red, green, blue = cluster_center\n",
    "    dominant_colors.append((red, green, blue))  # Append fractional values directly\n",
    "\n",
    "# Display colors of cluster centers\n",
    "plt.imshow([dominant_colors])\n",
    "plt.axis('off')  # Hide axes for better visualization\n",
    "plt.title(\"Dominant Colors\")\n",
    "plt.show()\n"
   ]
  },
  {
   "cell_type": "code",
   "execution_count": 32,
   "id": "a6a7e49d",
   "metadata": {
    "scrolled": true
   },
   "outputs": [
    {
     "name": "stdout",
     "output_type": "stream",
     "text": [
      "Dominant colors saved to /Users/Swetha/Downloads/data_wound_seg/ischemic.csv\n"
     ]
    }
   ],
   "source": [
    "# Save the dominant colors to a CSV file\n",
    "ischemic_df = pd.DataFrame(dominant_colors, columns=['red', 'green', 'blue'])\n",
    "\n",
    "# Specify the path where you want to save the dominant colors\n",
    "output_path = \"/Users/Swetha/Downloads/data_wound_seg/ischemic.csv\"  # Update with your desired file path\n",
    "\n",
    "# Save to CSV\n",
    "ischemic_df.to_csv(output_path, index=False)\n",
    "\n",
    "print(f\"Dominant colors saved to {output_path}\")"
   ]
  },
  {
   "cell_type": "code",
   "execution_count": 35,
   "id": "63f738af",
   "metadata": {},
   "outputs": [
    {
     "name": "stdout",
     "output_type": "stream",
     "text": [
      "Healthy Dominant Colors:\n",
      "        red     green      blue\n",
      "0  0.887670  0.497677  0.488844\n",
      "1  0.757870  0.316716  0.331481\n",
      "2  0.435178  0.194092  0.172755\n",
      "Ischemic Dominant Colors:\n",
      "        red     green      blue\n",
      "0  0.183948  0.146188  0.111346\n",
      "1  0.690846  0.546049  0.420220\n",
      "2  0.391240  0.309495  0.238299\n",
      "Infected Dominant Colors:\n",
      "        red     green      blue\n",
      "0  0.514591  0.252680  0.214975\n",
      "1  0.926477  0.739688  0.610997\n",
      "2  0.744148  0.462935  0.400315\n"
     ]
    }
   ],
   "source": [
    "import pandas as pd\n",
    "\n",
    "# Path to the folder where the dominant color files are stored\n",
    "directory_path = \"/Users/Swetha/Downloads/data_wound_seg/\"  # Update this path if necessary\n",
    "\n",
    "# Load the dominant color CSV files for each category\n",
    "healthy_colors = pd.read_csv(f\"{directory_path}healthy.csv\")\n",
    "ischemic_colors = pd.read_csv(f\"{directory_path}ischemic.csv\")\n",
    "infected_colors = pd.read_csv(f\"{directory_path}infected.csv\")\n",
    "\n",
    "# Print the first few rows to verify the loaded data\n",
    "print(\"Healthy Dominant Colors:\")\n",
    "print(healthy_colors.head())\n",
    "\n",
    "print(\"Ischemic Dominant Colors:\")\n",
    "print(ischemic_colors.head())\n",
    "\n",
    "print(\"Infected Dominant Colors:\")\n",
    "print(infected_colors.head())\n"
   ]
  },
  {
   "cell_type": "code",
   "execution_count": 45,
   "id": "298c4b3c",
   "metadata": {},
   "outputs": [
    {
     "data": {
      "image/png": "[encoded data removed]",
      "text/plain": [
       "<Figure size 640x480 with 1 Axes>"
      ]
     },
     "metadata": {},
     "output_type": "display_data"
    },
    {
     "name": "stdout",
     "output_type": "stream",
     "text": [
      "(512, 512, 3)\n"
     ]
    },
    {
     "data": {
      "image/png": "[encoded data removed]",
      "text/plain": [
       "<Figure size 640x480 with 1 Axes>"
      ]
     },
     "metadata": {},
     "output_type": "display_data"
    }
   ],
   "source": [
    "import cv2\n",
    "import numpy as np\n",
    "import matplotlib.pyplot as plt\n",
    "import matplotlib.image as img\n",
    "from scipy.cluster.vq import kmeans\n",
    "import pandas as pd\n",
    "\n",
    "# Step 1: Load the original image and the mask\n",
    "image = cv2.imread('/Users/Swetha/Downloads/data_wound_seg/healthy/rgb20.png')  # Replace with your image path\n",
    "mask = cv2.imread('/Users/Swetha/Downloads/data_wound_seg/healthy/mask20.png', cv2.IMREAD_GRAYSCALE)  # Load the mask as grayscale\n",
    "\n",
    "# Ensure the mask is binary (0 or 255 values)\n",
    "_, mask = cv2.threshold(mask, 127, 255, cv2.THRESH_BINARY)\n",
    "\n",
    "# Step 2: Apply the mask to the image\n",
    "masked_image = cv2.bitwise_and(image, image, mask=mask)\n",
    "\n",
    "# Step 3: Show the masked image for visualization in Jupyter Notebook\n",
    "# Convert BGR to RGB for correct display in matplotlib\n",
    "masked_image_rgb = cv2.cvtColor(masked_image, cv2.COLOR_BGR2RGB)\n",
    "\n",
    "# Display the masked image using matplotlib\n",
    "plt.imshow(masked_image_rgb)\n",
    "plt.axis('off')  # Hide axes for better visualization\n",
    "plt.title(\"Masked Image\")\n",
    "plt.show()\n",
    "\n",
    "# Step 4: Save the masked image (if required)\n",
    "cv2.imwrite('masked_image.png', masked_image)\n",
    "\n",
    "# Step 5: Process the masked image to find dominant colors\n",
    "batman_image = img.imread('masked_image.png')  # Read the saved masked image\n",
    "\n",
    "# Print the shape of the image\n",
    "print(batman_image.shape)\n",
    "\n",
    "# Extract masked pixels where the mask is white (255)\n",
    "masked_pixels = batman_image[mask == 255]\n",
    "\n",
    "# Extract R, G, B values from the masked region\n",
    "r, g, b = masked_pixels[:, 0], masked_pixels[:, 1], masked_pixels[:, 2]\n",
    "\n",
    "# Save the RGB values as a DataFrame\n",
    "batman_df = pd.DataFrame({'red': r, 'green': g, 'blue': b})\n",
    "\n",
    "# Perform KMeans clustering to find the 3 dominant colors\n",
    "cluster_centers, _ = kmeans(batman_df[['red', 'green', 'blue']], 3)\n",
    "\n",
    "dominant_colors = []\n",
    "\n",
    "# Rescale the cluster centers back to the original RGB range [0, 255]\n",
    "for cluster_center in cluster_centers:\n",
    "    red, green, blue = cluster_center\n",
    "    dominant_colors.append((\n",
    "        max(0, min(255, red)),  # Ensure within 0-255 range\n",
    "        max(0, min(255, green)),  # Ensure within 0-255 range\n",
    "        max(0, min(255, blue))  # Ensure within 0-255 range\n",
    "    ))\n",
    "\n",
    "# Step 6: Display the dominant colors\n",
    "plt.imshow([dominant_colors])\n",
    "plt.axis('off')  # Hide axes for better visualization\n",
    "plt.title(\"Dominant Colors\")\n",
    "plt.show()\n"
   ]
  },
  {
   "cell_type": "code",
   "execution_count": 46,
   "id": "53ba7325",
   "metadata": {},
   "outputs": [
    {
     "name": "stdout",
     "output_type": "stream",
     "text": [
      "The input image's dominant color matches the 'Healthy' category with the smallest distance.\n"
     ]
    }
   ],
   "source": [
    "import numpy as np\n",
    "import pandas as pd\n",
    "from scipy.spatial.distance import cdist\n",
    "\n",
    "# Assuming you've already loaded the saved dominant colors (healthy_colors, ischemic_colors, infected_colors)\n",
    "# and your input image's dominant colors are stored in the `dominant_colors` list (RGB values).\n",
    "\n",
    "# Convert the list of dominant colors to numpy arrays for easier manipulation\n",
    "input_dominant_colors = np.array(dominant_colors)\n",
    "\n",
    "# Function to calculate Euclidean distance between input dominant colors and category dominant colors\n",
    "def calculate_distance(input_colors, category_colors):\n",
    "    # Calculate Euclidean distance between each input color and each category color\n",
    "    distance_matrix = cdist(input_colors, category_colors, metric='euclidean')\n",
    "    return distance_matrix\n",
    "\n",
    "# Convert the CSVs to numpy arrays of RGB values\n",
    "# Example: Load healthy colors from CSV (already assumed to be loaded in `healthy_colors` DataFrame)\n",
    "healthy_colors = pd.read_csv('/Users/Swetha/Downloads/data_wound_seg/healthy.csv')  # Replace with actual path\n",
    "ischemic_colors = pd.read_csv('/Users/Swetha/Downloads/data_wound_seg/ischemic.csv')  # Replace with actual path\n",
    "infected_colors = pd.read_csv('/Users/Swetha/Downloads/data_wound_seg/infected.csv')  # Replace with actual path\n",
    "\n",
    "# Convert the DataFrame to numpy arrays for easy distance calculations\n",
    "healthy_colors_array = healthy_colors[['red', 'green', 'blue']].values\n",
    "ischemic_colors_array = ischemic_colors[['red', 'green', 'blue']].values\n",
    "infected_colors_array = infected_colors[['red', 'green', 'blue']].values\n",
    "\n",
    "# Calculate distance between input image's dominant colors and each category's dominant colors\n",
    "healthy_distance = calculate_distance(input_dominant_colors, healthy_colors_array)\n",
    "ischemic_distance = calculate_distance(input_dominant_colors, ischemic_colors_array)\n",
    "infected_distance = calculate_distance(input_dominant_colors, infected_colors_array)\n",
    "\n",
    "# For each category, find the minimum distance and corresponding category\n",
    "min_healthy_distance = np.min(healthy_distance)\n",
    "min_ischemic_distance = np.min(ischemic_distance)\n",
    "min_infected_distance = np.min(infected_distance)\n",
    "\n",
    "# Find the category with the smallest distance\n",
    "if min_healthy_distance <= min_ischemic_distance and min_healthy_distance <= min_infected_distance:\n",
    "    category = \"Healthy\"\n",
    "elif min_ischemic_distance <= min_healthy_distance and min_ischemic_distance <= min_infected_distance:\n",
    "    category = \"Ischemic\"\n",
    "else:\n",
    "    category = \"Infected\"\n",
    "\n",
    "# Output the closest category\n",
    "print(f\"The input image's dominant color matches the '{category}' category with the smallest distance.\")\n"
   ]
  },
  {
   "cell_type": "code",
   "execution_count": null,
   "id": "376252b4",
   "metadata": {},
   "outputs": [],
   "source": []
  }
 ],
 "metadata": {
  "kernelspec": {
   "display_name": "Python 3 (ipykernel)",
   "language": "python",
   "name": "python3"
  },
  "language_info": {
   "codemirror_mode": {
    "name": "ipython",
    "version": 3
   },
   "file_extension": ".py",
   "mimetype": "text/x-python",
   "name": "python",
   "nbconvert_exporter": "python",
   "pygments_lexer": "ipython3",
   "version": "3.11.4"
  }
 },
 "nbformat": 4,
 "nbformat_minor": 5
}
